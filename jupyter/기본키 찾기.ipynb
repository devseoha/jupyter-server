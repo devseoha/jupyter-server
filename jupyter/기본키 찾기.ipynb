{
 "cells": [
  {
   "cell_type": "code",
   "execution_count": 1,
   "metadata": {},
   "outputs": [],
   "source": [
    "## 위클리 스타일링 기본키 찾기\n",
    "# 실행(▶ Run)하고 년도, 월, 주차를 입력하면 위클리스타일링의 기본키가 출력됩니다."
   ]
  },
  {
   "cell_type": "code",
   "execution_count": null,
   "metadata": {
    "tags": []
   },
   "outputs": [],
   "source": [
    "import sys\n",
    "import os\n",
    "\n",
    "sys.path.append('/home/jovyan')\n",
    "config = __import__('config')\n",
    "\n",
    "year = input(\"년도를 입력해주세요.\")\n",
    "month = input(\"월을 입력해주세요.\")\n",
    "number = input(\"주차를 입력해주세요.\")"
   ]
  },
  {
   "cell_type": "code",
   "execution_count": null,
   "metadata": {
    "collapsed": false,
    "jupyter": {
     "outputs_hidden": false
    },
    "tags": []
   },
   "outputs": [],
   "source": [
    "cur = config.conn.cursor()\n",
    "cur.execute(\"\"\"\n",
    "    select a.id from styling_weeklyinfo a\n",
    "        where a.year = %s\n",
    "        and a.month = %s\n",
    "        and a.number = %s\n",
    "\"\"\", (year, month, number))\n",
    "\n",
    "queryResult = cur.fetchall()\n",
    "print(\"기본키 :\",queryResult[0][0])\n",
    "cur.close()"
   ]
  }
 ],
 "metadata": {
  "kernelspec": {
   "display_name": "Python 3 (ipykernel)",
   "language": "python",
   "name": "python3"
  },
  "language_info": {
   "codemirror_mode": {
    "name": "ipython",
    "version": 3
   },
   "file_extension": ".py",
   "mimetype": "text/x-python",
   "name": "python",
   "nbconvert_exporter": "python",
   "pygments_lexer": "ipython3",
   "version": "3.11.5"
  }
 },
 "nbformat": 4,
 "nbformat_minor": 4
}
