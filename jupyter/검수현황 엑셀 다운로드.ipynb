{
 "cells": [
  {
   "cell_type": "code",
   "execution_count": null,
   "metadata": {},
   "outputs": [],
   "source": [
    "## 위클리 검수 현황 엑셀로 다운로드\n",
    "# 실행(▶ Run)하고 위클리아이디를 입력하시면 해당하는 위클리 검색 현황을 엑셀로 다운받을수있습니다.\n",
    "# 다운받은 엑셀파일은 검수현황폴더 내에 저장됩니다.\n",
    "# 엑셀파일의 파일명은 \"위클리아이디_suggestion_다운받은날짜\" 입니다.\n",
    "# 엑셀파일을 클릭한 후 Download를 클릭하시면 다운로드됩니다."
   ]
  },
  {
   "cell_type": "code",
   "execution_count": null,
   "metadata": {
    "collapsed": false,
    "jupyter": {
     "outputs_hidden": false
    }
   },
   "outputs": [],
   "source": [
    "import pandas as pd\n",
    "import datetime\n",
    "import sys\n",
    "sys.path.append('/home/libs')\n",
    "config = __import__('config')\n",
    "\n",
    "weekly_id = input(\"위클리 아이디\")"
   ]
  },
  {
   "cell_type": "code",
   "execution_count": null,
   "metadata": {
    "collapsed": false,
    "jupyter": {
     "outputs_hidden": false
    },
    "tags": []
   },
   "outputs": [],
   "source": [
    "cur = config.conn.cursor()\n",
    "cur.execute(\"\"\"\n",
    "    select d.id,\n",
    "       CASE\n",
    "           WHEN d.confirmation_status = 1 THEN '매칭 성공'\n",
    "           WHEN d.confirmation_status = 2 THEN '제안서 전송'\n",
    "           WHEN d.confirmation_status = 3 THEN '피드백 진행중'\n",
    "           WHEN d.confirmation_status = 4 THEN '완료'\n",
    "           WHEN d.confirmation_status = 5 THEN '피드백 없이 종료'\n",
    "           ELSE ''\n",
    "           END                                    as confirmation_status,\n",
    "       d.notice,\n",
    "       TO_CHAR(d.matching_at, 'YYYY-MM-DD hh:mm') as matching_at,\n",
    "       TO_CHAR(d.send_at, 'YYYY-MM-DD hh:mm')     as send_at,\n",
    "       TO_CHAR(d.done_at, 'YYYY-MM-DD')     as done_at,\n",
    "       CASE WHEN d.is_confirmed = true THEN '검수 완료' ELSE '' END as is_confirmed,\n",
    "       concat('https://stylerecipe-korea.s3.amazonaws.com/media',d.thumbnail) as thumbnail\n",
    "from styling_weeklyinfo a\n",
    "         join styling_weeklystylinginfo sw on a.id = sw.weekly_info_id\n",
    "         join \"Request_request\" c on sw.request_id = c.id\n",
    "         join \"Suggestion_suggestion\" d on c.suggestion_id = d.id\n",
    "where a.id = %s\n",
    "group by d.id\n",
    "\"\"\", (weekly_id,))\n",
    "\n",
    "queryResult = cur.fetchall()\n",
    "\n",
    "df = pd.DataFrame(queryResult, columns = \n",
    "    [\n",
    "        \"제안서 번호\",\n",
    "        \"상태\",\n",
    "        \"요청사항\",\n",
    "        \"매칭 일자\",\n",
    "        \"제안서 전송 일자\",        \n",
    "        \"완료 일자\",\n",
    "        \"검수 여부\",\n",
    "        \"썸네일\"\n",
    "    ]\n",
    ")\n",
    "\n",
    "current_date = datetime.datetime.now().strftime('%Y%m%d')\n",
    "\n",
    "df.to_excel('./검수현황/'+weekly_id+'_suggestion_'+current_date+'.xlsx', index=False)\n",
    "\n",
    "print(\"엑셀 다운로드 완료\")\n",
    "config.conn.close()"
   ]
  }
 ],
 "metadata": {
  "kernelspec": {
   "display_name": "Python 3 (ipykernel)",
   "language": "python",
   "name": "python3"
  },
  "language_info": {
   "codemirror_mode": {
    "name": "ipython",
    "version": 3
   },
   "file_extension": ".py",
   "mimetype": "text/x-python",
   "name": "python",
   "nbconvert_exporter": "python",
   "pygments_lexer": "ipython3",
   "version": "3.11.5"
  }
 },
 "nbformat": 4,
 "nbformat_minor": 4
}
