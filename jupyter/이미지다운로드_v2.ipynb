{
 "cells": [
  {
   "cell_type": "code",
   "execution_count": 1,
   "id": "8272fc30-9f9c-4e9b-bde7-a0c046415172",
   "metadata": {},
   "outputs": [],
   "source": [
    "## 위클리 상품 이미지 다운받기\n",
    "# 실행(▶ Run)하고 위클리아이디를 입력하시면 해당하는 위클리의 검수된 제안서의 제품사진을 다운받으실 수있습니다.\n",
    "# 다운받은 파일은 해당하는 이미지 폴더 내의 위클리아이디로 폴더가 만들어지고 해당하는 폴더 하위에 생성됩니다.\n",
    "# 파일명은 \"위클리아이디_다운받은날짜.zip\" 입니다.\n",
    "# 해당하는 .zip파일을 클릭한 후 Download를 클릭하시면 다운로드됩니다."
   ]
  },
  {
   "cell_type": "code",
   "execution_count": null,
   "id": "0bedbec8-019a-4c0f-8f76-bad9f8526ec9",
   "metadata": {},
   "outputs": [],
   "source": [
    "import os\n",
    "import shutil\n",
    "import datetime\n",
    "import sys\n",
    "\n",
    "sys.path.append('/home/libs')\n",
    "config = __import__('config')\n",
    "\n",
    "# 위클리 데이터 기본키 입력 받기\n",
    "weekly_id = input(\"위클리 기본키: \")\n",
    "current_date = datetime.datetime.now().strftime('%Y%m%d')"
   ]
  },
  {
   "cell_type": "code",
   "execution_count": null,
   "id": "f4ca7bed",
   "metadata": {
    "collapsed": false,
    "jupyter": {
     "outputs_hidden": false
    }
   },
   "outputs": [],
   "source": [
    "# 쿼리문 실행\n",
    "cur = config.conn.cursor()\n",
    "cur.execute(\"\"\"\n",
    "    SELECT sp.id as suggestion_product_id, hyperlink, image, ss.id\n",
    "    FROM \"Suggestion_product\" sp\n",
    "    LEFT JOIN \"Suggestion_suggestion\" ss ON sp.suggestion_id = ss.id\n",
    "    WHERE ss.id IN (\n",
    "              SELECT ss.id FROM \"Suggestion_suggestion\" ss\n",
    "    LEFT JOIN \"Request_request\" rr ON ss.id = rr.suggestion_id\n",
    "    INNER JOIN styling_weeklystylinginfo sw ON rr.id = sw.request_id\n",
    "    WHERE sw.weekly_info_id =%s\n",
    "    AND ss.is_confirmed = true)\n",
    "AND ss.thumbnail = ''\n",
    "\"\"\", (weekly_id,))\n",
    "\n",
    "queryResult = cur.fetchall()"
   ]
  },
  {
   "cell_type": "code",
   "execution_count": null,
   "id": "2d797b68-104b-4359-a0c1-d2bd9d88c6c0",
   "metadata": {},
   "outputs": [],
   "source": [
    "# 제안서 아이디를 키값으로 오브젝트 생성\n",
    "suggestion_obj = {}\n",
    "for row in queryResult:\n",
    "    suggestion_id = row[3]\n",
    "    if suggestion_id not in suggestion_obj:\n",
    "        suggestion_obj[suggestion_id] = []\n",
    "    suggestion_obj[suggestion_id].append(row)"
   ]
  },
  {
   "cell_type": "code",
   "execution_count": null,
   "id": "404c98b2",
   "metadata": {
    "collapsed": false,
    "jupyter": {
     "outputs_hidden": false
    }
   },
   "outputs": [],
   "source": [
    "# 제안서 아이디로 만든 오브젝트를 통해서 S3에서 이미지를 받아옴 \n",
    "download_images_count = 0;\n",
    "\n",
    "for suggestion_id, obj in suggestion_obj.items():\n",
    "    # product_infos.txt는 제품 착샷을 빠르게 찾기위해 작성되는 파일\n",
    "    filepath = f\"./이미지/{weekly_id}/{weekly_id}_{current_date}/{suggestion_id}/product_infos.txt\"\n",
    "    \n",
    "    try:\n",
    "        # suggestion_obj로 폴더를 생성\n",
    "        folder_path = f\"./이미지/{weekly_id}/{weekly_id}_{current_date}/{suggestion_id}\"\n",
    "        os.makedirs(folder_path, exist_ok=False)\n",
    "    except:\n",
    "        continue\n",
    "\n",
    "    try:\n",
    "        download_images_count += 1;\n",
    "        with open(filepath, \"w\", encoding='UTF-8') as f:\n",
    "            \n",
    "            # S3에 접근하여 제안서 아이디로 파일을 읽어 로컬에 저장(있으면 계속, 없을때 저장)\n",
    "            os.system(\n",
    "                f'aws s3 cp s3://stylerecipe-korea/media/suggestion/{suggestion_id}/ ./이미지/{weekly_id}/{weekly_id}_{current_date}/{suggestion_id}/ --recursive')\n",
    "            for data in obj:\n",
    "                toimage = f'./이미지/{weekly_id}/{weekly_id}_{current_date}/{suggestion_id}/{data[0]}'\n",
    "                exp = data[2].split('.')[-1]\n",
    "              \n",
    "                # 제안서에서 생성된 이미지가 아닌 통합상품에서 들고오는 이미지는 이미지 경로가 product일 수 있음.\n",
    "                if data[2].split('/')[0] == 'product':\n",
    "                    os.system(\n",
    "                        f'aws s3 cp s3://stylerecipe-korea/media/{data[2]} {toimage}.{exp} ')\n",
    "                elif data[2].split('/')[1] != str(suggestion_id):\n",
    "                    os.system(\n",
    "                        f'aws s3 cp s3://stylerecipe-korea/media/{data[2]} {toimage}.{exp} ')\n",
    "                else:\n",
    "                    image = data[2].split('/')[-1]\n",
    "                    fromimage = f'./이미지/{weekly_id}/{weekly_id}_{current_date}/{suggestion_id}/{image}'\n",
    "                    try:\n",
    "                        os.system(f'mv {fromimage} {toimage}.{exp}')\n",
    "                    except:\n",
    "                        pass\n",
    "                \n",
    "                f.write(\n",
    "                    f'{data[0]} : {data[1]}\\n')\n",
    "                \n",
    "    except Exception as e:\n",
    "        print(e)\n",
    "        pass\n",
    "    \n",
    "print(\"download_images_count:\", download_images_count)"
   ]
  },
  {
   "cell_type": "code",
   "execution_count": 6,
   "id": "2b26fecc-7617-4531-b17a-9d9126669024",
   "metadata": {
    "tags": []
   },
   "outputs": [
    {
     "data": {
      "text/plain": [
       "'/home/jovyan/위클리스타일링/이미지/43/43_20230424.zip'"
      ]
     },
     "execution_count": 6,
     "metadata": {},
     "output_type": "execute_result"
    }
   ],
   "source": [
    "# 최종본 zip파일로 저장\n",
    "shutil.make_archive(f'./이미지/{weekly_id}/{weekly_id}_{current_date}','zip',f'./이미지/{weekly_id}/{weekly_id}_{current_date}')"
   ]
  },
  {
   "cell_type": "code",
   "execution_count": 7,
   "id": "2eab5f32-a563-48d8-b507-d8973e8178fa",
   "metadata": {
    "tags": []
   },
   "outputs": [
    {
     "data": {
      "text/plain": [
       "0"
      ]
     },
     "execution_count": 7,
     "metadata": {},
     "output_type": "execute_result"
    }
   ],
   "source": [
    "os.system(f'rm -r ./이미지/{weekly_id}/{weekly_id}_{current_date}')"
   ]
  }
 ],
 "metadata": {
  "kernelspec": {
   "display_name": "Python 3 (ipykernel)",
   "language": "python",
   "name": "python3"
  },
  "language_info": {
   "codemirror_mode": {
    "name": "ipython",
    "version": 3
   },
   "file_extension": ".py",
   "mimetype": "text/x-python",
   "name": "python",
   "nbconvert_exporter": "python",
   "pygments_lexer": "ipython3",
   "version": "3.10.10"
  }
 },
 "nbformat": 4,
 "nbformat_minor": 5
}
