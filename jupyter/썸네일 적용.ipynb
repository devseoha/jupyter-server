{
 "cells": [
  {
   "cell_type": "code",
   "execution_count": 1,
   "id": "a763623c-bca5-463d-8b82-2699144d1989",
   "metadata": {},
   "outputs": [],
   "source": [
    "## 위클리 스타일링의 누끼이미지(제품, 썸네일)를 적용합니다.\n",
    "# 최종누끼이미지를 finish.zip로 압축합니다.\n",
    "# 완료이미지 폴더를 더블클릭합니다. \n",
    "# 완료이미지 폴더 내에 최종누끼이미지파일을 압축한 finish.zip파일을 드레그하여 이동시켜줍니다.\n",
    "# 실행파일로 돌아와 실행(▶ Run)합니다."
   ]
  },
  {
   "cell_type": "code",
   "execution_count": 2,
   "id": "1bfc8785-8d40-4100-9bae-0c4a9bf02fc5",
   "metadata": {},
   "outputs": [
    {
     "ename": "ModuleNotFoundError",
     "evalue": "No module named 'config'",
     "output_type": "error",
     "traceback": [
      "\u001B[0;31m---------------------------------------------------------------------------\u001B[0m",
      "\u001B[0;31mModuleNotFoundError\u001B[0m                       Traceback (most recent call last)",
      "Cell \u001B[0;32mIn[2], line 6\u001B[0m\n\u001B[1;32m      3\u001B[0m \u001B[38;5;28;01mimport\u001B[39;00m \u001B[38;5;21;01msys\u001B[39;00m\n\u001B[1;32m      5\u001B[0m sys\u001B[38;5;241m.\u001B[39mpath\u001B[38;5;241m.\u001B[39mappend(\u001B[38;5;124m'\u001B[39m\u001B[38;5;124m/home/lib\u001B[39m\u001B[38;5;124m'\u001B[39m)\n\u001B[0;32m----> 6\u001B[0m config \u001B[38;5;241m=\u001B[39m \u001B[38;5;28;43m__import__\u001B[39;49m\u001B[43m(\u001B[49m\u001B[38;5;124;43m'\u001B[39;49m\u001B[38;5;124;43mconfig\u001B[39;49m\u001B[38;5;124;43m'\u001B[39;49m\u001B[43m)\u001B[49m\n\u001B[1;32m      8\u001B[0m \u001B[38;5;66;03m# 압축 파일 경로\u001B[39;00m\n\u001B[1;32m      9\u001B[0m zip_path \u001B[38;5;241m=\u001B[39m \u001B[38;5;124m\"\u001B[39m\u001B[38;5;124m./완료이미지/finish.zip\u001B[39m\u001B[38;5;124m\"\u001B[39m\n",
      "\u001B[0;31mModuleNotFoundError\u001B[0m: No module named 'config'"
     ]
    }
   ],
   "source": [
    "import os\n",
    "import zipfile\n",
    "import sys\n",
    "\n",
    "sys.path.append('/home/lib')\n",
    "config = __import__('config')\n",
    "\n",
    "# 압축 파일 경로\n",
    "zip_path = \"./완료이미지/finish.zip\"\n",
    "\n",
    "# 압축 파일 열기\n",
    "with zipfile.ZipFile(zip_path, 'r') as zip_ref:\n",
    "    # 압축 해제\n",
    "    zip_ref.extractall('./완료이미지')\n",
    "    print(\"압축 해제 완료\")"
   ]
  },
  {
   "cell_type": "code",
   "execution_count": null,
   "id": "7257d18c-95dc-4c59-8d21-a14b53691114",
   "metadata": {
    "pycharm": {
     "is_executing": true
    }
   },
   "outputs": [],
   "source": [
    "# 교체할 이미지 파일 수집\n",
    "try:\n",
    "    if os.path.exists('products.txt'):\n",
    "        os.remove('products.txt')\n",
    "except Exception as e:\n",
    "    pass\n",
    "\n",
    "os.system(f'find ./완료이미지 -not -path \"./완료이미지/__MACOSX/*\" -name \"*_1*\" >> ./완료이미지/products.txt')\n",
    "\n",
    "exp_list = ['.png', '.jpeg', '.PNG', '.JPEG', '.JPG']\n",
    "\n",
    "suggestion = set()\n",
    "suggestion_product = set()\n",
    "\n",
    "with open(\"./완료이미지/products.txt\", \"r\") as f:\n",
    "    products = f.readlines()\n",
    "    product_list = []\n",
    "    for product in products:\n",
    "        product = product.replace('\\n', '')\n",
    "        new_product = product\n",
    "        pid = product.split('/')[-1].split('_')[0]\n",
    "        suggestion.add(product.split('/')[3])\n",
    "        suggestion_product.add(pid)\n",
    "        for exp in exp_list:\n",
    "            new_product = new_product.replace(exp, '.jpg')\n",
    "                \n",
    "        if product != new_product:\n",
    "            os.system(f'mv {product} {new_product}')\n",
    "\n",
    "        product_list.append(int(pid))\n",
    "\n",
    "\n",
    "# S3에 접근하여 이미지 교체\n",
    "os.system(\n",
    "        'aws s3 cp ./완료이미지/finish s3://stylerecipe-korea/media/suggestion/ --recursive --acl public-read')\n"
   ]
  },
  {
   "cell_type": "code",
   "execution_count": null,
   "id": "0980e02b-f86d-4e4e-8fcb-c6e8cf86f44d",
   "metadata": {},
   "outputs": [],
   "source": [
    "# 교체된 파일을 기준으로 데이터베이스 썸네일교체, 착용샷 교체 작업\n",
    "cur = config.conn.cursor()\n",
    "\n",
    "updateS = tuple(suggestion)\n",
    "updateSP = tuple(suggestion_product)\n",
    "\n",
    "query = cur.execute(\"\"\"\n",
    "update \"Suggestion_suggestion\" ss \n",
    "set thumbnail = concat('suggestion/',ss.id::varchar,'/',ss.id::varchar,'.jpg') \n",
    "where ss.id in %s\n",
    "\"\"\", (updateS,))\n",
    "\n",
    "print(\"썸네일 변경 완료 : \", updateS)\n",
    "\n",
    "query2 = cur.execute(\"\"\"\n",
    "update \"Suggestion_product\" sp\n",
    "set wearing_image =  concat('suggestion/',sp.suggestion_id::varchar,'/',sp.id::varchar,'_1.jpg')\n",
    "where id in %s\n",
    "\"\"\", (updateSP,))\n",
    "\n",
    "print(\"착용샷 변경 완료 : \", updateSP)\n",
    "\n",
    "config.conn.commit()\n",
    "config.conn.close()\n"
   ]
  },
  {
   "cell_type": "code",
   "execution_count": null,
   "id": "6072fc46-0f5b-42b3-8035-85a69a308c4d",
   "metadata": {
    "tags": []
   },
   "outputs": [],
   "source": [
    "os.system(f'rm -rf ./완료이미지/*')\n",
    "print(\"종료\")"
   ]
  }
 ],
 "metadata": {
  "kernelspec": {
   "display_name": "Python 3 (ipykernel)",
   "language": "python",
   "name": "python3"
  },
  "language_info": {
   "codemirror_mode": {
    "name": "ipython",
    "version": 3
   },
   "file_extension": ".py",
   "mimetype": "text/x-python",
   "name": "python",
   "nbconvert_exporter": "python",
   "pygments_lexer": "ipython3",
   "version": "3.11.5"
  }
 },
 "nbformat": 4,
 "nbformat_minor": 5
}
